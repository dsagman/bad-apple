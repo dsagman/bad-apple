{
 "cells": [
  {
   "cell_type": "code",
   "execution_count": 5,
   "metadata": {},
   "outputs": [],
   "source": [
    "# %pip install matplotlib\n",
    "# %pip install numpy\n",
    "# %pip install opencv-python"
   ]
  },
  {
   "cell_type": "code",
   "execution_count": 10,
   "metadata": {},
   "outputs": [],
   "source": [
    "import cv2\n",
    "import numpy as np\n",
    "import random\n",
    "from matplotlib import pyplot as plt\n",
    "import os\n"
   ]
  },
  {
   "cell_type": "code",
   "execution_count": null,
   "metadata": {},
   "outputs": [],
   "source": [
    "\n",
    "def pack_circles_in_polygon(image_path, output_path, save=False, display=True):\n",
    "    # Load the image in grayscale\n",
    "    img = cv2.imread(image_path, cv2.IMREAD_GRAYSCALE)\n",
    "\n",
    "    # Threshold the image\n",
    "    _, thresh = cv2.threshold(img, 127, 255, cv2.THRESH_BINARY_INV)\n",
    "\n",
    "    # Find contours\n",
    "    contours, _ = cv2.findContours(thresh, cv2.RETR_TREE, cv2.CHAIN_APPROX_SIMPLE)\n",
    "\n",
    "    # Create an empty image for drawing circles\n",
    "    circle_img = np.zeros_like(img)\n",
    "\n",
    "    # Iterate through each contour\n",
    "    for contour in contours:\n",
    "        # Create a mask for the current contour\n",
    "        mask = np.zeros_like(img)\n",
    "        cv2.drawContours(mask, [contour], -1, 255, -1)\n",
    "\n",
    "        # Find the bounding rectangle\n",
    "        x, y, w, h = cv2.boundingRect(contour)\n",
    "\n",
    "        # Pack circles in the bounding rectangle\n",
    "        for _ in range(1000): # Number of attempts\n",
    "            radius = random.randint(5, 20) # Random radius\n",
    "            cx = random.randint(x, x + w)\n",
    "            cy = random.randint(y, y + h)\n",
    "\n",
    "            # Check if the circle is inside the contour\n",
    "            if cv2.pointPolygonTest(contour, (cx, cy), False) >= 0:\n",
    "                # Check if the circle is inside the mask area\n",
    "                if np.all(mask[cy-radius:cy+radius, cx-radius:cx+radius] == 255):\n",
    "                    cv2.circle(circle_img, (cx, cy), radius, 255, -1)\n",
    "\n",
    "    # Save the result\n",
    "    if save:\n",
    "        cv2.imwrite(output_path, circle_img)\n",
    "\n",
    "    # Display the result\n",
    "    if display:\n",
    "        plt.imshow(circle_img, cmap='gray')\n",
    "        plt.show()\n"
   ]
  },
  {
   "cell_type": "code",
   "execution_count": null,
   "metadata": {},
   "outputs": [],
   "source": [
    "current_dir = os.getcwd()\n",
    "frames_dir = os.path.join(current_dir, \"frames/\")\n",
    "output_dir = os.path.join(current_dir, \"output/\")\n",
    "frames_list = os.listdir(frames_dir)\n",
    "frames_list.sort()\n",
    "print(f\"{len(frames_list)} images to process\")\n",
    "for frame in frames_list:\n",
    "    frame_path = os.path.join(frames_dir, frame)\n",
    "    output_path = os.path.join(output_dir, frame)\n",
    "    pack_circles_in_polygon(frame_path, output_path, save=True, display=False )\n"
   ]
  },
  {
   "cell_type": "code",
   "execution_count": null,
   "metadata": {},
   "outputs": [],
   "source": [
    "\n",
    "pack_circles_in_polygon(frames_dir+\"frame-0100.jpg\", output_dir+\"frame-0100.jpg\")\n",
    "\n"
   ]
  }
 ],
 "metadata": {
  "kernelspec": {
   "display_name": ".venv",
   "language": "python",
   "name": "python3"
  },
  "language_info": {
   "codemirror_mode": {
    "name": "ipython",
    "version": 3
   },
   "file_extension": ".py",
   "mimetype": "text/x-python",
   "name": "python",
   "nbconvert_exporter": "python",
   "pygments_lexer": "ipython3",
   "version": "3.11.6"
  }
 },
 "nbformat": 4,
 "nbformat_minor": 2
}

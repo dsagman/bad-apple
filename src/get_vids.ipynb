{
 "cells": [
  {
   "cell_type": "code",
   "execution_count": 2,
   "metadata": {},
   "outputs": [],
   "source": [
    "# %pip install pandas\n",
    "# %pip install pyarrow\n",
    "# %pip install python-dotenv\n",
    "# %pip install google-api-python-client"
   ]
  },
  {
   "cell_type": "code",
   "execution_count": 3,
   "metadata": {},
   "outputs": [],
   "source": [
    "import pandas as pd\n",
    "import os\n",
    "from dotenv import load_dotenv\n",
    "from googleapiclient.discovery import build\n",
    "import numpy as np"
   ]
  },
  {
   "cell_type": "code",
   "execution_count": 4,
   "metadata": {},
   "outputs": [],
   "source": [
    "def get_video_details(video_url):\n",
    "    # Extract video ID from URL\n",
    "    video_id = video_url.split('v=')[1]\n",
    "    # Make API call to get video details\n",
    "    video_response = youtube.videos().list(\n",
    "        part='snippet,contentDetails,statistics',\n",
    "        id=video_id\n",
    "    ).execute()\n",
    "\n",
    "    if video_response['items']:\n",
    "        video_details = video_response['items'][0]\n",
    "        return {\n",
    "            'Title': video_details['snippet']['title'],\n",
    "            'Description': video_details['snippet']['description'],\n",
    "            'Upload Date': video_details['snippet']['publishedAt'],\n",
    "            'Duration': video_details['contentDetails']['duration'],\n",
    "            'Views': video_details['statistics']['viewCount'],\n",
    "            'Comments': video_details['statistics'].get('commentCount', '0'),  # Use '0' or None as default\n",
    "            'Likes': video_details['statistics'].get('likeCount', '0'),\n",
    "        }\n",
    "    else:\n",
    "        return None"
   ]
  },
  {
   "cell_type": "code",
   "execution_count": 5,
   "metadata": {},
   "outputs": [],
   "source": [
    "def update_dataframe_row(row):\n",
    "    # Check if any of the fields are already populated\n",
    "    fields_to_check = ['Title', 'Description', 'Upload Date', 'Duration', 'Views']  # Assuming 'Views' is also a field you're updating\n",
    "    if all(not pd.isnull(row.get(field, '')) and row.get(field, '') != '' for field in fields_to_check):\n",
    "        # All fields are already populated, do not overwrite\n",
    "        return row\n",
    "    \n",
    "    # If any of the details are missing, fetch from YouTube\n",
    "    video_details = get_video_details(row['Link'])\n",
    "    if video_details:\n",
    "        for field in fields_to_check:\n",
    "            # Update the field only if it's considered blank (NaN or empty string)\n",
    "            if pd.isnull(row.get(field)) or row.get(field) == '':\n",
    "                row[field] = video_details.get(field, None)\n",
    "    return row"
   ]
  },
  {
   "cell_type": "code",
   "execution_count": 6,
   "metadata": {},
   "outputs": [
    {
     "data": {
      "text/html": [
       "<div>\n",
       "<style scoped>\n",
       "    .dataframe tbody tr th:only-of-type {\n",
       "        vertical-align: middle;\n",
       "    }\n",
       "\n",
       "    .dataframe tbody tr th {\n",
       "        vertical-align: top;\n",
       "    }\n",
       "\n",
       "    .dataframe thead th {\n",
       "        text-align: right;\n",
       "    }\n",
       "</style>\n",
       "<table border=\"1\" class=\"dataframe\">\n",
       "  <thead>\n",
       "    <tr style=\"text-align: right;\">\n",
       "      <th></th>\n",
       "      <th>Type</th>\n",
       "      <th>Summary</th>\n",
       "      <th>Link</th>\n",
       "      <th>Link2</th>\n",
       "      <th>Link2 Type</th>\n",
       "      <th>Title</th>\n",
       "      <th>Description</th>\n",
       "      <th>Upload Date</th>\n",
       "      <th>Duration</th>\n",
       "      <th>Views</th>\n",
       "      <th>Comments</th>\n",
       "      <th>Likes</th>\n",
       "      <th>GitHub</th>\n",
       "      <th>Language</th>\n",
       "      <th>Library</th>\n",
       "      <th>File Size</th>\n",
       "      <th>Music</th>\n",
       "    </tr>\n",
       "  </thead>\n",
       "  <tbody>\n",
       "    <tr>\n",
       "      <th>0</th>\n",
       "      <td>Math</td>\n",
       "      <td>Circle packing</td>\n",
       "      <td>https://www.youtube.com/watch?v=wbGZJbeojoo</td>\n",
       "      <td>None</td>\n",
       "      <td>None</td>\n",
       "      <td>None</td>\n",
       "      <td>None</td>\n",
       "      <td>None</td>\n",
       "      <td>None</td>\n",
       "      <td>None</td>\n",
       "      <td>None</td>\n",
       "      <td>None</td>\n",
       "      <td>None</td>\n",
       "      <td>None</td>\n",
       "      <td>None</td>\n",
       "      <td>None</td>\n",
       "      <td>None</td>\n",
       "    </tr>\n",
       "    <tr>\n",
       "      <th>1</th>\n",
       "      <td>Math</td>\n",
       "      <td>Circle Packing (Python, CV2)</td>\n",
       "      <td>https://www.youtube.com/watch?v=37AqUjnsNKw</td>\n",
       "      <td>None</td>\n",
       "      <td>None</td>\n",
       "      <td>Bad Apple, But It's a Fractal (Higher Quality)</td>\n",
       "      <td>I redid it with a higher resolution and smalle...</td>\n",
       "      <td>2022-09-22T07:00:05Z</td>\n",
       "      <td>PT3M40S</td>\n",
       "      <td>512.0</td>\n",
       "      <td>None</td>\n",
       "      <td>None</td>\n",
       "      <td>None</td>\n",
       "      <td>None</td>\n",
       "      <td>None</td>\n",
       "      <td>None</td>\n",
       "      <td>None</td>\n",
       "    </tr>\n",
       "  </tbody>\n",
       "</table>\n",
       "</div>"
      ],
      "text/plain": [
       "   Type                       Summary  \\\n",
       "0  Math                Circle packing   \n",
       "1  Math  Circle Packing (Python, CV2)   \n",
       "\n",
       "                                          Link Link2 Link2 Type  \\\n",
       "0  https://www.youtube.com/watch?v=wbGZJbeojoo  None       None   \n",
       "1  https://www.youtube.com/watch?v=37AqUjnsNKw  None       None   \n",
       "\n",
       "                                            Title  \\\n",
       "0                                            None   \n",
       "1  Bad Apple, But It's a Fractal (Higher Quality)   \n",
       "\n",
       "                                         Description           Upload Date  \\\n",
       "0                                               None                  None   \n",
       "1  I redid it with a higher resolution and smalle...  2022-09-22T07:00:05Z   \n",
       "\n",
       "  Duration  Views Comments Likes GitHub Language Library File Size Music  \n",
       "0     None   None     None  None   None     None    None      None  None  \n",
       "1  PT3M40S  512.0     None  None   None     None    None      None  None  "
      ]
     },
     "execution_count": 6,
     "metadata": {},
     "output_type": "execute_result"
    }
   ],
   "source": [
    "# set up the YouTube API\n",
    "load_dotenv(verbose=True)\n",
    "api_key = os.environ.get(\"YOUTUBE_API_KEY\")\n",
    "youtube = build('youtube', 'v3', developerKey=api_key)\n",
    "\n",
    "# read the list of videos from the google sheet\n",
    "# csv_url = 'https://docs.google.com/spreadsheets/d/e/2PACX-1vR5B9xWBbS5VaTEWiLQreeQyNmyAilb7Xt1doIAuDqF-ndpSWWRnrjnpxmFk24HWSjg83wW6GoEWn2Q/pub?gid=0&single=true&output=csv'\n",
    "# newer version\n",
    "csv_url = 'https://docs.google.com/spreadsheets/d/e/2PACX-1vR5B9xWBbS5VaTEWiLQreeQyNmyAilb7Xt1doIAuDqF-ndpSWWRnrjnpxmFk24HWSjg83wW6GoEWn2Q/pub?gid=1771724794&single=true&output=csv'\n",
    "df = pd.read_csv(csv_url)\n",
    "df = df.astype(str).replace('nan',None) # make it all objects and replace 'nan' with None\n",
    "\n",
    "df.head(2)"
   ]
  },
  {
   "cell_type": "code",
   "execution_count": 7,
   "metadata": {},
   "outputs": [],
   "source": [
    "# get the details for each youtube video, don't overwrite data that's already there\n",
    "\n",
    "for index, row in df.iterrows():\n",
    "    link = row['Link']\n",
    "    if link and 'youtube' in link:\n",
    "        updated_row = update_dataframe_row(row)\n",
    "        df.loc[index] = updated_row\n"
   ]
  },
  {
   "cell_type": "code",
   "execution_count": 8,
   "metadata": {},
   "outputs": [
    {
     "data": {
      "text/html": [
       "<div>\n",
       "<style scoped>\n",
       "    .dataframe tbody tr th:only-of-type {\n",
       "        vertical-align: middle;\n",
       "    }\n",
       "\n",
       "    .dataframe tbody tr th {\n",
       "        vertical-align: top;\n",
       "    }\n",
       "\n",
       "    .dataframe thead th {\n",
       "        text-align: right;\n",
       "    }\n",
       "</style>\n",
       "<table border=\"1\" class=\"dataframe\">\n",
       "  <thead>\n",
       "    <tr style=\"text-align: right;\">\n",
       "      <th></th>\n",
       "      <th>Type</th>\n",
       "      <th>Summary</th>\n",
       "      <th>Link</th>\n",
       "      <th>Link2</th>\n",
       "      <th>Link2 Type</th>\n",
       "      <th>Title</th>\n",
       "      <th>Description</th>\n",
       "      <th>Upload Date</th>\n",
       "      <th>Duration</th>\n",
       "      <th>Views</th>\n",
       "      <th>Comments</th>\n",
       "      <th>Likes</th>\n",
       "      <th>GitHub</th>\n",
       "      <th>Language</th>\n",
       "      <th>Library</th>\n",
       "      <th>File Size</th>\n",
       "      <th>Music</th>\n",
       "    </tr>\n",
       "  </thead>\n",
       "  <tbody>\n",
       "    <tr>\n",
       "      <th>0</th>\n",
       "      <td>Math</td>\n",
       "      <td>Circle packing</td>\n",
       "      <td>https://www.youtube.com/watch?v=wbGZJbeojoo</td>\n",
       "      <td>None</td>\n",
       "      <td>None</td>\n",
       "      <td>Bad Apple!! using a Circle Packing Algorithm</td>\n",
       "      <td>Using maximum inscribed circles\\nUses Processi...</td>\n",
       "      <td>2023-05-01T17:11:17Z</td>\n",
       "      <td>PT3M40S</td>\n",
       "      <td>219</td>\n",
       "      <td>None</td>\n",
       "      <td>None</td>\n",
       "      <td>None</td>\n",
       "      <td>None</td>\n",
       "      <td>None</td>\n",
       "      <td>None</td>\n",
       "      <td>None</td>\n",
       "    </tr>\n",
       "    <tr>\n",
       "      <th>1</th>\n",
       "      <td>Math</td>\n",
       "      <td>Circle Packing (Python, CV2)</td>\n",
       "      <td>https://www.youtube.com/watch?v=37AqUjnsNKw</td>\n",
       "      <td>None</td>\n",
       "      <td>None</td>\n",
       "      <td>Bad Apple, But It's a Fractal (Higher Quality)</td>\n",
       "      <td>I redid it with a higher resolution and smalle...</td>\n",
       "      <td>2022-09-22T07:00:05Z</td>\n",
       "      <td>PT3M40S</td>\n",
       "      <td>512.0</td>\n",
       "      <td>None</td>\n",
       "      <td>None</td>\n",
       "      <td>None</td>\n",
       "      <td>None</td>\n",
       "      <td>None</td>\n",
       "      <td>None</td>\n",
       "      <td>None</td>\n",
       "    </tr>\n",
       "  </tbody>\n",
       "</table>\n",
       "</div>"
      ],
      "text/plain": [
       "   Type                       Summary  \\\n",
       "0  Math                Circle packing   \n",
       "1  Math  Circle Packing (Python, CV2)   \n",
       "\n",
       "                                          Link Link2 Link2 Type  \\\n",
       "0  https://www.youtube.com/watch?v=wbGZJbeojoo  None       None   \n",
       "1  https://www.youtube.com/watch?v=37AqUjnsNKw  None       None   \n",
       "\n",
       "                                            Title  \\\n",
       "0    Bad Apple!! using a Circle Packing Algorithm   \n",
       "1  Bad Apple, But It's a Fractal (Higher Quality)   \n",
       "\n",
       "                                         Description           Upload Date  \\\n",
       "0  Using maximum inscribed circles\\nUses Processi...  2023-05-01T17:11:17Z   \n",
       "1  I redid it with a higher resolution and smalle...  2022-09-22T07:00:05Z   \n",
       "\n",
       "  Duration  Views Comments Likes GitHub Language Library File Size Music  \n",
       "0  PT3M40S    219     None  None   None     None    None      None  None  \n",
       "1  PT3M40S  512.0     None  None   None     None    None      None  None  "
      ]
     },
     "execution_count": 8,
     "metadata": {},
     "output_type": "execute_result"
    }
   ],
   "source": [
    "df.head(2)"
   ]
  },
  {
   "cell_type": "code",
   "execution_count": 9,
   "metadata": {},
   "outputs": [],
   "source": [
    "df.to_csv('youtube_videos.csv', index=False, encoding='utf-8', sep='|')"
   ]
  },
  {
   "cell_type": "code",
   "execution_count": 37,
   "metadata": {},
   "outputs": [
    {
     "name": "stderr",
     "output_type": "stream",
     "text": [
      "/tmp/ipykernel_82659/148215079.py:3: UserWarning: This pattern is interpreted as a regular expression, and has match groups. To actually get the groups, use str.extract.\n",
      "  has_link = df['Description'].str.contains(url_regex, na=False)\n"
     ]
    },
    {
     "data": {
      "text/plain": [
       "3                      github.com/Adneths/fourier-drawer\n",
       "4                                  github.com/kevinjycui\n",
       "14                    github.com/zenorogue/newconformist\n",
       "15     github.com/NathanMacLeod/ConstraintPhysics/tre...\n",
       "16                   github.com/TotalTechGeek/pictoprime\n",
       "                             ...                        \n",
       "181                       github.com/stevelord/umadapple\n",
       "192              github.com/kasamikona/BadAppleBookshelf\n",
       "193        github.com/Tommyhetrick/BadAppleIronTrapdoors\n",
       "194            github.com/Ellivers/bad-apple-pink-petals\n",
       "195                                github.com/kevinjycui\n",
       "Name: Description, Length: 63, dtype: object"
      ]
     },
     "execution_count": 37,
     "metadata": {},
     "output_type": "execute_result"
    }
   ],
   "source": [
    "# find rows where the description contains a github link\n",
    "url_regex = r'(github.com/[^\\s]+)'\n",
    "has_link = df['Description'].str.contains(url_regex, na=False)\n",
    "links = df['Description'].str.extract(url_regex, expand=False)\n",
    "has_link.value_counts()\n",
    "links.dropna()"
   ]
  },
  {
   "cell_type": "code",
   "execution_count": null,
   "metadata": {},
   "outputs": [
    {
     "name": "stdout",
     "output_type": "stream",
     "text": [
      "{'Title': 'Rick Astley - Never Gonna Give You Up (Official Music Video)', 'Description': \"The official video for “Never Gonna Give You Up” by Rick Astley. \\n\\nThe new album 'Are We There Yet?' is out now: Download here: https://RickAstley.lnk.to/AreWeThereYetFA/itunes\\n\\n“Never Gonna Give You Up” was a global smash on its release in July 1987, topping the charts in 25 countries including Rick’s native UK and the US Billboard Hot 100.  It also won the Brit Award for Best single in 1988. Stock Aitken and Waterman wrote and produced the track which was the lead-off single and lead track from Rick’s debut LP “Whenever You Need Somebody”.  The album was itself a UK number one and would go on to sell over 15 million copies worldwide.\\n\\nThe legendary video was directed by Simon West – who later went on to make Hollywood blockbusters such as Con Air, Lara Croft – Tomb Raider and The Expendables 2.  The video passed the 1bn YouTube views milestone on 28 July 2021.\\n\\nSubscribe to the official Rick Astley YouTube channel: https://RickAstley.lnk.to/YTSubID\\n\\nFollow Rick Astley:\\nFacebook: https://RickAstley.lnk.to/FBFollowID \\nTwitter: https://RickAstley.lnk.to/TwitterID \\nInstagram: https://RickAstley.lnk.to/InstagramID \\nWebsite: https://RickAstley.lnk.to/storeID \\nTikTok: https://RickAstley.lnk.to/TikTokID\\n\\nListen to Rick Astley:\\nSpotify: https://RickAstley.lnk.to/SpotifyID \\nApple Music: https://RickAstley.lnk.to/AppleMusicID \\nAmazon Music: https://RickAstley.lnk.to/AmazonMusicID \\nDeezer: https://RickAstley.lnk.to/DeezerID \\n\\nLyrics:\\nWe’re no strangers to love\\nYou know the rules and so do I\\nA full commitment’s what I’m thinking of\\nYou wouldn’t get this from any other guy\\n\\nI just wanna tell you how I’m feeling\\nGotta make you understand\\n\\nNever gonna give you up\\nNever gonna let you down\\nNever gonna run around and desert you\\nNever gonna make you cry\\nNever gonna say goodbye\\nNever gonna tell a lie and hurt you\\n\\nWe’ve known each other for so long\\nYour heart’s been aching but you’re too shy to say it\\nInside we both know what’s been going on\\nWe know the game and we’re gonna play it\\n\\nAnd if you ask me how I’m feeling\\nDon’t tell me you’re too blind to see\\n\\nNever gonna give you up\\nNever gonna let you down\\nNever gonna run around and desert you\\nNever gonna make you cry\\nNever gonna say goodbye\\nNever gonna tell a lie and hurt you\\n\\n#RickAstley #NeverGonnaGiveYouUp #WheneverYouNeedSomebody #OfficialMusicVideo\", 'Upload Date': '2009-10-25T06:57:33Z', 'Duration': 'PT3M33S', 'Views': '1502767465', 'Comments': '2303145', 'Likes': '17276913'}\n"
     ]
    }
   ],
   "source": [
    "\n",
    "# Example usage\n",
    "# video_url = 'https://www.youtube.com/watch?v=dQw4w9WgXcQ'  # Example YouTube video URL\n",
    "# details = get_video_details(video_url)\n",
    "# print(details)"
   ]
  }
 ],
 "metadata": {
  "kernelspec": {
   "display_name": ".venv",
   "language": "python",
   "name": "python3"
  },
  "language_info": {
   "codemirror_mode": {
    "name": "ipython",
    "version": 3
   },
   "file_extension": ".py",
   "mimetype": "text/x-python",
   "name": "python",
   "nbconvert_exporter": "python",
   "pygments_lexer": "ipython3",
   "version": "3.11.6"
  }
 },
 "nbformat": 4,
 "nbformat_minor": 2
}

{
 "cells": [
  {
   "cell_type": "code",
   "execution_count": 4,
   "metadata": {},
   "outputs": [],
   "source": [
    "# %pip install python-dotenv\n",
    "# %pip install google-api-python-client"
   ]
  },
  {
   "cell_type": "code",
   "execution_count": 7,
   "metadata": {},
   "outputs": [
    {
     "name": "stdout",
     "output_type": "stream",
     "text": [
      "{'Title': 'Rick Astley - Never Gonna Give You Up (Official Music Video)', 'Description': \"The official video for “Never Gonna Give You Up” by Rick Astley. \\n\\nThe new album 'Are We There Yet?' is out now: Download here: https://RickAstley.lnk.to/AreWeThereYetFA/itunes\\n\\n“Never Gonna Give You Up” was a global smash on its release in July 1987, topping the charts in 25 countries including Rick’s native UK and the US Billboard Hot 100.  It also won the Brit Award for Best single in 1988. Stock Aitken and Waterman wrote and produced the track which was the lead-off single and lead track from Rick’s debut LP “Whenever You Need Somebody”.  The album was itself a UK number one and would go on to sell over 15 million copies worldwide.\\n\\nThe legendary video was directed by Simon West – who later went on to make Hollywood blockbusters such as Con Air, Lara Croft – Tomb Raider and The Expendables 2.  The video passed the 1bn YouTube views milestone on 28 July 2021.\\n\\nSubscribe to the official Rick Astley YouTube channel: https://RickAstley.lnk.to/YTSubID\\n\\nFollow Rick Astley:\\nFacebook: https://RickAstley.lnk.to/FBFollowID \\nTwitter: https://RickAstley.lnk.to/TwitterID \\nInstagram: https://RickAstley.lnk.to/InstagramID \\nWebsite: https://RickAstley.lnk.to/storeID \\nTikTok: https://RickAstley.lnk.to/TikTokID\\n\\nListen to Rick Astley:\\nSpotify: https://RickAstley.lnk.to/SpotifyID \\nApple Music: https://RickAstley.lnk.to/AppleMusicID \\nAmazon Music: https://RickAstley.lnk.to/AmazonMusicID \\nDeezer: https://RickAstley.lnk.to/DeezerID \\n\\nLyrics:\\nWe’re no strangers to love\\nYou know the rules and so do I\\nA full commitment’s what I’m thinking of\\nYou wouldn’t get this from any other guy\\n\\nI just wanna tell you how I’m feeling\\nGotta make you understand\\n\\nNever gonna give you up\\nNever gonna let you down\\nNever gonna run around and desert you\\nNever gonna make you cry\\nNever gonna say goodbye\\nNever gonna tell a lie and hurt you\\n\\nWe’ve known each other for so long\\nYour heart’s been aching but you’re too shy to say it\\nInside we both know what’s been going on\\nWe know the game and we’re gonna play it\\n\\nAnd if you ask me how I’m feeling\\nDon’t tell me you’re too blind to see\\n\\nNever gonna give you up\\nNever gonna let you down\\nNever gonna run around and desert you\\nNever gonna make you cry\\nNever gonna say goodbye\\nNever gonna tell a lie and hurt you\\n\\n#RickAstley #NeverGonnaGiveYouUp #WheneverYouNeedSomebody #OfficialMusicVideo\", 'Upload Date': '2009-10-25T06:57:33Z', 'Duration': 'PT3M33S', 'Views': '1502764548', 'Comments': '2303145', 'Likes': '17276894'}\n"
     ]
    }
   ],
   "source": [
    "import os\n",
    "from dotenv import load_dotenv\n",
    "\n",
    "from googleapiclient.discovery import build\n",
    "\n",
    "load_dotenv(verbose=True)\n",
    "api_key = os.environ.get(\"YOUTUBE_API_KEY\")\n",
    "\n",
    "\n",
    "youtube = build('youtube', 'v3', developerKey=api_key)\n",
    "\n",
    "def get_video_details(video_url):\n",
    "    # Extract video ID from URL\n",
    "    video_id = video_url.split('v=')[1]\n",
    "    # Make API call to get video details\n",
    "    video_response = youtube.videos().list(\n",
    "        part='snippet,contentDetails,statistics',\n",
    "        id=video_id\n",
    "    ).execute()\n",
    "\n",
    "    # Parse response to extract details\n",
    "    if video_response['items']:\n",
    "        video_details = video_response['items'][0]\n",
    "        return {\n",
    "            'Title': video_details['snippet']['title'],\n",
    "            'Description': video_details['snippet']['description'],\n",
    "            'Upload Date': video_details['snippet']['publishedAt'],\n",
    "            'Duration': video_details['contentDetails']['duration'],\n",
    "            'Views': video_details['statistics']['viewCount'],\n",
    "            'Comments': video_details['statistics']['commentCount'],\n",
    "            'Likes': video_details['statistics']['likeCount'],\n",
    "        }\n",
    "    else:\n",
    "        return None\n",
    "\n",
    "# Example usage\n",
    "video_url = 'https://www.youtube.com/watch?v=dQw4w9WgXcQ'  # Example YouTube video URL\n",
    "details = get_video_details(video_url)\n",
    "print(details)"
   ]
  }
 ],
 "metadata": {
  "kernelspec": {
   "display_name": ".venv",
   "language": "python",
   "name": "python3"
  },
  "language_info": {
   "codemirror_mode": {
    "name": "ipython",
    "version": 3
   },
   "file_extension": ".py",
   "mimetype": "text/x-python",
   "name": "python",
   "nbconvert_exporter": "python",
   "pygments_lexer": "ipython3",
   "version": "3.11.6"
  }
 },
 "nbformat": 4,
 "nbformat_minor": 2
}

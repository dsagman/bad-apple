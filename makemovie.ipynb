{
 "cells": [
  {
   "cell_type": "code",
   "execution_count": null,
   "metadata": {},
   "outputs": [],
   "source": [
    "def convert_images_to_video(directory_path, video_path, frame_rate=30):\n",
    "    # List all jpg files in the directory, sorted\n",
    "    jpg_files = sorted([f for f in os.listdir(directory_path) if f.endswith('.jpg')])\n",
    "\n",
    "    # Read the first image to determine the frame size\n",
    "    first_image_path = os.path.join(directory_path, jpg_files[0])\n",
    "    frame = cv2.imread(first_image_path)\n",
    "    height, width, layers = frame.shape\n",
    "\n",
    "    # Define the codec and create VideoWriter object\n",
    "    fourcc = cv2.VideoWriter_fourcc(*'mp4v')  # 'mp4v' for .mp4\n",
    "    out = cv2.VideoWriter(video_path, fourcc, frame_rate, (width, height))\n",
    "\n",
    "    # Read each file and write it to the video\n",
    "    for file in jpg_files:\n",
    "        image_path = os.path.join(directory_path, file)\n",
    "        frame = cv2.imread(image_path)\n",
    "        out.write(frame)\n",
    "\n",
    "    # Release the VideoWriter\n",
    "    out.release()\n",
    "\n",
    "# Example usage\n",
    "convert_images_to_video(\"path/to/directory\", \"path/to/output_video.mp4\")\n"
   ]
  }
 ],
 "metadata": {
  "language_info": {
   "name": "python"
  }
 },
 "nbformat": 4,
 "nbformat_minor": 2
}
